{
 "cells": [
  {
   "cell_type": "code",
   "execution_count": 1,
   "metadata": {},
   "outputs": [
    {
     "name": "stdout",
     "output_type": "stream",
     "text": [
      "[Korpora] Corpus `korean hate speech` is already installed at C:\\Users\\kdp\\Korpora\\korean_hate_speech\\unlabeled\\unlabeled_comments_1.txt\n",
      "[Korpora] Corpus `korean hate speech` is already installed at C:\\Users\\kdp\\Korpora\\korean_hate_speech\\unlabeled\\unlabeled_comments_2.txt\n",
      "[Korpora] Corpus `korean hate speech` is already installed at C:\\Users\\kdp\\Korpora\\korean_hate_speech\\unlabeled\\unlabeled_comments_3.txt\n",
      "[Korpora] Corpus `korean hate speech` is already installed at C:\\Users\\kdp\\Korpora\\korean_hate_speech\\unlabeled\\unlabeled_comments_4.txt\n",
      "[Korpora] Corpus `korean hate speech` is already installed at C:\\Users\\kdp\\Korpora\\korean_hate_speech\\unlabeled\\unlabeled_comments_5.txt\n",
      "[Korpora] Corpus `korean hate speech` is already installed at C:\\Users\\kdp\\Korpora\\korean_hate_speech\\news_title\\unlabeled_comments.news_title_1.txt\n",
      "[Korpora] Corpus `korean hate speech` is already installed at C:\\Users\\kdp\\Korpora\\korean_hate_speech\\news_title\\unlabeled_comments.news_title_2.txt\n",
      "[Korpora] Corpus `korean hate speech` is already installed at C:\\Users\\kdp\\Korpora\\korean_hate_speech\\news_title\\unlabeled_comments.news_title_3.txt\n",
      "[Korpora] Corpus `korean hate speech` is already installed at C:\\Users\\kdp\\Korpora\\korean_hate_speech\\news_title\\unlabeled_comments.news_title_4.txt\n",
      "[Korpora] Corpus `korean hate speech` is already installed at C:\\Users\\kdp\\Korpora\\korean_hate_speech\\news_title\\unlabeled_comments.news_title_5.txt\n",
      "[Korpora] Corpus `korean hate speech` is already installed at C:\\Users\\kdp\\Korpora\\korean_hate_speech\\news_title\\dev.news_title.txt\n",
      "[Korpora] Corpus `korean hate speech` is already installed at C:\\Users\\kdp\\Korpora\\korean_hate_speech\\news_title\\test.news_title.txt\n",
      "[Korpora] Corpus `korean hate speech` is already installed at C:\\Users\\kdp\\Korpora\\korean_hate_speech\\news_title\\train.news_title.txt\n",
      "[Korpora] Corpus `korean hate speech` is already installed at C:\\Users\\kdp\\Korpora\\korean_hate_speech\\labeled\\dev.tsv\n",
      "[Korpora] Corpus `korean hate speech` is already installed at C:\\Users\\kdp\\Korpora\\korean_hate_speech\\labeled\\train.tsv\n",
      "[Korpora] Corpus `korean hate speech` is already installed at C:\\Users\\kdp\\Korpora\\korean_hate_speech\\test.no_label.tsv\n",
      "\n",
      "    Korpora 는 다른 분들이 연구 목적으로 공유해주신 말뭉치들을\n",
      "    손쉽게 다운로드, 사용할 수 있는 기능만을 제공합니다.\n",
      "\n",
      "    말뭉치들을 공유해 주신 분들에게 감사드리며, 각 말뭉치 별 설명과 라이센스를 공유 드립니다.\n",
      "    해당 말뭉치에 대해 자세히 알고 싶으신 분은 아래의 description 을 참고,\n",
      "    해당 말뭉치를 연구/상용의 목적으로 이용하실 때에는 아래의 라이센스를 참고해 주시기 바랍니다.\n",
      "\n",
      "    # Description\n",
      "    Authors :\n",
      "        - Jihyung Moon* (inmoonlight@github)\n",
      "        - Won Ik Cho* (warnikchow@github)\n",
      "        - Junbum Lee (beomi@github)\n",
      "        * equal contribution\n",
      "    Repository : https://github.com/kocohub/korean-hate-speech\n",
      "    References :\n",
      "        - Moon, J., Cho, W. I., & Lee, J. (2020). BEEP! Korean Corpus of Online News\n",
      "          Comments for Toxic Speech Detection. arXiv preprint arXiv:2005.12503.\n",
      "\n",
      "    We provide the first human-annotated Korean corpus for toxic speech detection and the large unlabeled corpus.\n",
      "    The data is comments from the Korean entertainment news aggregation platform.\n",
      "\n",
      "    # License\n",
      "    Creative Commons Attribution-ShareAlike 4.0 International License.\n",
      "    Visit here for detail : https://creativecommons.org/licenses/by-sa/4.0/\n",
      "\n",
      "[Korpora] Corpus `korean hate speech` is already installed at C:\\Users\\kdp\\Korpora\\korean_hate_speech\\unlabeled\\unlabeled_comments_1.txt\n",
      "[Korpora] Corpus `korean hate speech` is already installed at C:\\Users\\kdp\\Korpora\\korean_hate_speech\\unlabeled\\unlabeled_comments_2.txt\n",
      "[Korpora] Corpus `korean hate speech` is already installed at C:\\Users\\kdp\\Korpora\\korean_hate_speech\\unlabeled\\unlabeled_comments_3.txt\n",
      "[Korpora] Corpus `korean hate speech` is already installed at C:\\Users\\kdp\\Korpora\\korean_hate_speech\\unlabeled\\unlabeled_comments_4.txt\n",
      "[Korpora] Corpus `korean hate speech` is already installed at C:\\Users\\kdp\\Korpora\\korean_hate_speech\\unlabeled\\unlabeled_comments_5.txt\n",
      "[Korpora] Corpus `korean hate speech` is already installed at C:\\Users\\kdp\\Korpora\\korean_hate_speech\\news_title\\unlabeled_comments.news_title_1.txt\n",
      "[Korpora] Corpus `korean hate speech` is already installed at C:\\Users\\kdp\\Korpora\\korean_hate_speech\\news_title\\unlabeled_comments.news_title_2.txt\n",
      "[Korpora] Corpus `korean hate speech` is already installed at C:\\Users\\kdp\\Korpora\\korean_hate_speech\\news_title\\unlabeled_comments.news_title_3.txt\n",
      "[Korpora] Corpus `korean hate speech` is already installed at C:\\Users\\kdp\\Korpora\\korean_hate_speech\\news_title\\unlabeled_comments.news_title_4.txt\n",
      "[Korpora] Corpus `korean hate speech` is already installed at C:\\Users\\kdp\\Korpora\\korean_hate_speech\\news_title\\unlabeled_comments.news_title_5.txt\n",
      "[Korpora] Corpus `korean hate speech` is already installed at C:\\Users\\kdp\\Korpora\\korean_hate_speech\\news_title\\dev.news_title.txt\n",
      "[Korpora] Corpus `korean hate speech` is already installed at C:\\Users\\kdp\\Korpora\\korean_hate_speech\\news_title\\test.news_title.txt\n",
      "[Korpora] Corpus `korean hate speech` is already installed at C:\\Users\\kdp\\Korpora\\korean_hate_speech\\news_title\\train.news_title.txt\n",
      "[Korpora] Corpus `korean hate speech` is already installed at C:\\Users\\kdp\\Korpora\\korean_hate_speech\\labeled\\dev.tsv\n",
      "[Korpora] Corpus `korean hate speech` is already installed at C:\\Users\\kdp\\Korpora\\korean_hate_speech\\labeled\\train.tsv\n",
      "[Korpora] Corpus `korean hate speech` is already installed at C:\\Users\\kdp\\Korpora\\korean_hate_speech\\test.no_label.tsv\n"
     ]
    }
   ],
   "source": [
    "# 패키지 설치\n",
    "#!pip install Korpora\n",
    "\n",
    "# 패키지 설치 확인\n",
    "import Korpora\n",
    "Korpora.__version__\n",
    "\n",
    "# from Korpora import Korpora\n",
    "# Korpora.fetch(가져오고 싶은 자료명)\n",
    "\n",
    "# 데이터 다운로드\n",
    "from Korpora import Korpora # 위에는 버전 확인한다고 쓴 거고 사용할 때는 이렇게 쓰기!\n",
    "\n",
    "# 데이터셋 파일명\n",
    "data_file = 'korean_hate_speech'\n",
    "\n",
    "# 다운로드 fetch\n",
    "corpus = Korpora.fetch(data_file)\n",
    "\n",
    "corpus = Korpora.load(data_file)"
   ]
  },
  {
   "cell_type": "code",
   "execution_count": 2,
   "metadata": {},
   "outputs": [
    {
     "name": "stdout",
     "output_type": "stream",
     "text": [
      "(현재 호텔주인 심정) 아18 난 마른하늘에 날벼락맞고 호텔망하게생겼는데 누군 계속 추모받네....\n",
      "\"밤새 조문 행렬…故 전미선, 동료들이 그리워하는 따뜻한 배우 [종합]\"\n",
      "False\n",
      "hate\n",
      "SentencePair(text='\"[단독] 지드래곤♥이주연, 제주도 데이트…2018년 1호 커플 탄생\"', pair='\"[단독] 지드래곤♥이주연, 제주도 데이트…2018년 1호 커플 탄생\"')\n"
     ]
    }
   ],
   "source": [
    "# 데이터 확인\n",
    "# print(f'{corpus.train}') # 위에 로드 안하고 이렇게 적으면 'NoneType' object has no attribute 'train'\n",
    "\n",
    "# 데이터 확인\n",
    "hateDS = corpus.train\n",
    "hate_valDS = corpus.dev\n",
    "hate_testDS = corpus.test\n",
    "unlabel_DS = corpus.unlabeled # predict 할 때 사용 가능. 라벨이 없지만...우린 한국 사람이니까...\n",
    "\n",
    "# 1개 데이터 정보 추출\n",
    "print(hateDS[0].text)\n",
    "print(hateDS[0].title)\n",
    "print(hateDS[0].gender_bias)\n",
    "print(hateDS[0].hate)\n",
    "\n",
    "print(unlabel_DS[0]) # 라벨 없는 데이터 출력.\n",
    "\n",
    "# text와 title을 가지고 gender_bias/bias/hate로 라벨링 한 것. \n",
    "# 댓글을 볼 것인지(text-gender_bias).. 자료를 어떻게 사용할 지 선택해야 함"
   ]
  },
  {
   "cell_type": "code",
   "execution_count": 3,
   "metadata": {},
   "outputs": [],
   "source": [
    "# 피처 데이터 추출\n",
    "textData = corpus.get_all_texts()\n",
    "#print(textData)\n",
    "\n",
    "# 라벨 데이터 추출\n",
    "# label = corpus.get_all_bias()--> Error, 함수 없음."
   ]
  },
  {
   "cell_type": "code",
   "execution_count": 10,
   "metadata": {},
   "outputs": [
    {
     "name": "stdout",
     "output_type": "stream",
     "text": [
      "\n",
      "    Korpora 는 다른 분들이 연구 목적으로 공유해주신 말뭉치들을\n",
      "    손쉽게 다운로드, 사용할 수 있는 기능만을 제공합니다.\n",
      "\n",
      "    말뭉치들을 공유해 주신 분들에게 감사드리며, 각 말뭉치 별 설명과 라이센스를 공유 드립니다.\n",
      "    해당 말뭉치에 대해 자세히 알고 싶으신 분은 아래의 description 을 참고,\n",
      "    해당 말뭉치를 연구/상용의 목적으로 이용하실 때에는 아래의 라이센스를 참고해 주시기 바랍니다.\n",
      "\n",
      "    # Description\n",
      "    Authors :\n",
      "        - Jihyung Moon* (inmoonlight@github)\n",
      "        - Won Ik Cho* (warnikchow@github)\n",
      "        - Junbum Lee (beomi@github)\n",
      "        * equal contribution\n",
      "    Repository : https://github.com/kocohub/korean-hate-speech\n",
      "    References :\n",
      "        - Moon, J., Cho, W. I., & Lee, J. (2020). BEEP! Korean Corpus of Online News\n",
      "          Comments for Toxic Speech Detection. arXiv preprint arXiv:2005.12503.\n",
      "\n",
      "    We provide the first human-annotated Korean corpus for toxic speech detection and the large unlabeled corpus.\n",
      "    The data is comments from the Korean entertainment news aggregation platform.\n",
      "\n",
      "    # License\n",
      "    Creative Commons Attribution-ShareAlike 4.0 International License.\n",
      "    Visit here for detail : https://creativecommons.org/licenses/by-sa/4.0/\n",
      "\n",
      "[Korpora] Corpus `korean hate speech` is already installed at C:\\Users\\kdp\\Korpora\\korean_hate_speech\\unlabeled\\unlabeled_comments_1.txt\n",
      "[Korpora] Corpus `korean hate speech` is already installed at C:\\Users\\kdp\\Korpora\\korean_hate_speech\\unlabeled\\unlabeled_comments_2.txt\n",
      "[Korpora] Corpus `korean hate speech` is already installed at C:\\Users\\kdp\\Korpora\\korean_hate_speech\\unlabeled\\unlabeled_comments_3.txt\n",
      "[Korpora] Corpus `korean hate speech` is already installed at C:\\Users\\kdp\\Korpora\\korean_hate_speech\\unlabeled\\unlabeled_comments_4.txt\n",
      "[Korpora] Corpus `korean hate speech` is already installed at C:\\Users\\kdp\\Korpora\\korean_hate_speech\\unlabeled\\unlabeled_comments_5.txt\n",
      "[Korpora] Corpus `korean hate speech` is already installed at C:\\Users\\kdp\\Korpora\\korean_hate_speech\\news_title\\unlabeled_comments.news_title_1.txt\n",
      "[Korpora] Corpus `korean hate speech` is already installed at C:\\Users\\kdp\\Korpora\\korean_hate_speech\\news_title\\unlabeled_comments.news_title_2.txt\n",
      "[Korpora] Corpus `korean hate speech` is already installed at C:\\Users\\kdp\\Korpora\\korean_hate_speech\\news_title\\unlabeled_comments.news_title_3.txt\n",
      "[Korpora] Corpus `korean hate speech` is already installed at C:\\Users\\kdp\\Korpora\\korean_hate_speech\\news_title\\unlabeled_comments.news_title_4.txt\n",
      "[Korpora] Corpus `korean hate speech` is already installed at C:\\Users\\kdp\\Korpora\\korean_hate_speech\\news_title\\unlabeled_comments.news_title_5.txt\n",
      "[Korpora] Corpus `korean hate speech` is already installed at C:\\Users\\kdp\\Korpora\\korean_hate_speech\\news_title\\dev.news_title.txt\n",
      "[Korpora] Corpus `korean hate speech` is already installed at C:\\Users\\kdp\\Korpora\\korean_hate_speech\\news_title\\test.news_title.txt\n",
      "[Korpora] Corpus `korean hate speech` is already installed at C:\\Users\\kdp\\Korpora\\korean_hate_speech\\news_title\\train.news_title.txt\n",
      "[Korpora] Corpus `korean hate speech` is already installed at C:\\Users\\kdp\\Korpora\\korean_hate_speech\\labeled\\dev.tsv\n",
      "[Korpora] Corpus `korean hate speech` is already installed at C:\\Users\\kdp\\Korpora\\korean_hate_speech\\labeled\\train.tsv\n",
      "[Korpora] Corpus `korean hate speech` is already installed at C:\\Users\\kdp\\Korpora\\korean_hate_speech\\test.no_label.tsv\n"
     ]
    }
   ],
   "source": [
    "corpus = Korpora.load(data_file)\n",
    "\n",
    "petitions = corpus.get_all_texts()\n",
    "\n",
    "\n",
    "with open('../datas/corpus.txt', 'w', encoding='utf-8') as f:\n",
    "    for peti in petitions:\n",
    "        f.write(peti+'\\n')  "
   ]
  },
  {
   "cell_type": "code",
   "execution_count": 13,
   "metadata": {},
   "outputs": [],
   "source": [
    "from sentencepiece import SentencePieceTrainer\n",
    "\n",
    "SentencePieceTrainer.Train(input='../datas/corpus.txt', model_prefix='../datas/models/hatespeechmd',vocab_size=8000, model_type='bpe')"
   ]
  },
  {
   "cell_type": "code",
   "execution_count": 19,
   "metadata": {},
   "outputs": [
    {
     "data": {
      "text/plain": [
       "True"
      ]
     },
     "execution_count": 19,
     "metadata": {},
     "output_type": "execute_result"
    }
   ],
   "source": [
    "from sentencepiece import SentencePieceProcessor\n",
    "\n",
    "sp = SentencePieceProcessor() #토크나이저 모델 인스턴스 만들기\n",
    "sp.Load('../datas/models/hatespeechmd.model')"
   ]
  },
  {
   "cell_type": "code",
   "execution_count": 24,
   "metadata": {},
   "outputs": [],
   "source": [
    "# 문장 토큰화하기\n",
    "\n",
    "sentence = '아무거나 치라는데 뭘 말해야 할지 아무것도 몰르겟당.'\n",
    "sentences = ['왜인지는 잘 몰르겠는데 왼팔이 아프다 나 몸살인가','오왕 어렵고 신기하당']\n",
    "tokenized = sp.encode_as_pieces(sentence)\n",
    "tokenized_sentences = sp.encode_as_pieces(sentences)"
   ]
  },
  {
   "cell_type": "code",
   "execution_count": 26,
   "metadata": {},
   "outputs": [
    {
     "name": "stdout",
     "output_type": "stream",
     "text": [
      "단일 문장 토큰화 ['▁아무', '거', '나', '▁치', '라', '는데', '▁뭘', '▁말', '해야', '▁할', '지', '▁아무', '것', '도', '▁몰', '르', '겟', '당', '.']\n",
      "여러문장 리스트로 받아서 토큰화\n",
      " [['▁왜', '인', '지는', '▁잘', '▁몰', '르', '겠', '는데', '▁', '왼', '팔', '이', '▁아', '프', '다', '▁나', '▁몸', '살', '인가'], ['▁오', '왕', '▁어', '렵', '고', '▁신', '기', '하', '당']]\n"
     ]
    }
   ],
   "source": [
    "print('단일 문장 토큰화', tokenized)\n",
    "print('여러문장 리스트로 받아서 토큰화\\n',tokenized_sentences)"
   ]
  },
  {
   "cell_type": "code",
   "execution_count": 28,
   "metadata": {},
   "outputs": [
    {
     "name": "stdout",
     "output_type": "stream",
     "text": [
      "단일 문장 인코딩 [5069, 6866, 6700, 518, 6739, 773, 4521, 241, 2562, 384, 6690, 5069, 6907, 6720, 295, 7161, 0, 6849, 6679]\n",
      "여러문장 리스트로 받아서 인코딩하기\n",
      " [[379, 6691, 436, 290, 295, 7161, 7090, 773, 6677, 7851, 7389, 6684, 19, 6852, 6687, 97, 412, 6835, 2364], [49, 6993, 210, 7338, 6698, 87, 6702, 6703, 6849]]\n"
     ]
    }
   ],
   "source": [
    "# 인코딩하기\n",
    "\n",
    "encoded_sentence = sp.encode_as_ids(sentence)\n",
    "encoded_sentences = sp.encode_as_ids(sentences)\n",
    "\n",
    "print('단일 문장 인코딩', encoded_sentence)\n",
    "print('여러문장 리스트로 받아서 인코딩하기\\n',encoded_sentences)"
   ]
  },
  {
   "cell_type": "code",
   "execution_count": 29,
   "metadata": {},
   "outputs": [
    {
     "name": "stdout",
     "output_type": "stream",
     "text": [
      "정수 인코딩 -> 문장\n",
      " 아무거나 치라는데 뭘 말해야 할지 아무것도 몰르 ⁇ 당.\n",
      "하위 단어 토큰 -> 문장\n",
      "\n",
      " ['왜인지는 잘 몰르겠는데 왼팔이 아프다 나 몸살인가', '오왕 어렵고 신기하당']\n"
     ]
    }
   ],
   "source": [
    "#디코딩: 인코딩한 정수를 원래 문장으로 변환하기\n",
    "\n",
    "decode_ids = sp.decode_ids(encoded_sentence)\n",
    "decode_pieces = sp.decode_pieces(encoded_sentences)\n",
    "\n",
    "print('정수 인코딩 -> 문장\\n',decode_ids)\n",
    "print('하위 단어 토큰 -> 문장\\n\\n', decode_pieces)"
   ]
  },
  {
   "cell_type": "code",
   "execution_count": null,
   "metadata": {},
   "outputs": [],
   "source": []
  }
 ],
 "metadata": {
  "kernelspec": {
   "display_name": "NLP_38",
   "language": "python",
   "name": "python3"
  },
  "language_info": {
   "codemirror_mode": {
    "name": "ipython",
    "version": 3
   },
   "file_extension": ".py",
   "mimetype": "text/x-python",
   "name": "python",
   "nbconvert_exporter": "python",
   "pygments_lexer": "ipython3",
   "version": "3.8.19"
  }
 },
 "nbformat": 4,
 "nbformat_minor": 2
}

{
 "cells": [
  {
   "cell_type": "markdown",
   "metadata": {},
   "source": [
    "#### 토큰화 Tokenize\n",
    "- 문장을 의미가 있는 최소 단위로 나누는 것\n",
    "- 최소 단위 ; 단어, 글자, 문장 등"
   ]
  },
  {
   "cell_type": "code",
   "execution_count": null,
   "metadata": {},
   "outputs": [],
   "source": []
  },
  {
   "cell_type": "markdown",
   "metadata": {},
   "source": [
    "[1] 자모단위 토큰화: 자음과 모음으로 토큰화\n",
    " * 추가 라이브러리 설치: pip install jamo"
   ]
  },
  {
   "cell_type": "code",
   "execution_count": 1,
   "metadata": {},
   "outputs": [],
   "source": [
    "#모듈 로딩\n",
    "import jamo\n",
    "#완성형 단어 -> 조합형 전환\n",
    "msg = \"좋은 날\"\n",
    "\n",
    "result = jamo.h2j(msg)"
   ]
  },
  {
   "cell_type": "code",
   "execution_count": 3,
   "metadata": {},
   "outputs": [
    {
     "name": "stdout",
     "output_type": "stream",
     "text": [
      "ㅈㅗㅎㅇㅡㄴ ㄴㅏㄹ\n"
     ]
    }
   ],
   "source": [
    "# 조합형 단어 -> 자모 형 변환\n",
    "\n",
    "result2 = jamo.j2hcj(result)\n",
    "\n",
    "print(result2)"
   ]
  },
  {
   "cell_type": "markdown",
   "metadata": {},
   "source": [
    "[2] 다양한 한국어 형태소 분석기"
   ]
  },
  {
   "cell_type": "code",
   "execution_count": 10,
   "metadata": {},
   "outputs": [],
   "source": [
    "### Konlpy Okt 형태소 분석기\n",
    "from konlpy.tag import Kkma\n",
    "#인스턴스 생성\n",
    "okt = Kkma()\n",
    "\n",
    "# 분석할 문장\n",
    "msg = '달이 진다. 사랑이 진다. 날 떠나가 남겨질 너를 위해 나는 울어서는 안 된다.'\n"
   ]
  },
  {
   "cell_type": "code",
   "execution_count": 11,
   "metadata": {},
   "outputs": [
    {
     "name": "stdout",
     "output_type": "stream",
     "text": [
      "noun: ['달', '사랑이', '날', '질', '너', '나']\n",
      "형태소: ['달', '이', '질', 'ㄴ다', '.', '사랑이', '질', 'ㄴ다', '.', '날', '떠나가', '남', '기', '어', '질', '너', '를', '위하', '어', '나', '는', '울', '어서', '는', '안', '되', 'ㄴ다', '.']\n",
      "품사: [('달', 'NNG'), ('이', 'JKS'), ('질', 'VV'), ('ㄴ다', 'EFN'), ('.', 'SF'), ('사랑이', 'NNG'), ('질', 'VV'), ('ㄴ다', 'EFN'), ('.', 'SF'), ('날', 'NNG'), ('떠나가', 'VV'), ('남', 'EFQ'), ('기', 'VA'), ('어', 'ECS'), ('질', 'NNG'), ('너', 'NP'), ('를', 'JKO'), ('위하', 'VV'), ('어', 'ECS'), ('나', 'NP'), ('는', 'JX'), ('울', 'VV'), ('어서', 'ECD'), ('는', 'JX'), ('안', 'MAG'), ('되', 'VV'), ('ㄴ다', 'EFN'), ('.', 'SF')]\n"
     ]
    }
   ],
   "source": [
    "# 명사, 형태소, 문장, 품사 분석하기\n",
    "print('noun:' , okt.nouns(msg))\n",
    "print('형태소:',okt.morphs(msg))\n",
    "#print('구문: ' , okt.phrases(msg)) 꼬꼬마는 구문 분석이 안 된다.\n",
    "print('품사:', okt.pos(msg))"
   ]
  },
  {
   "cell_type": "code",
   "execution_count": 12,
   "metadata": {},
   "outputs": [],
   "source": [
    "### Konlpy Okt 형태소 분석기\n",
    "from konlpy.tag import Hannanum\n",
    "#인스턴스 생성\n",
    "han = Hannanum()\n",
    "\n",
    "# 분석할 문장\n",
    "msg = '달이 진다. 사랑이 진다. 날 떠나가 남겨질 너를 위해 나는 울어서는 안 된다.'"
   ]
  },
  {
   "cell_type": "code",
   "execution_count": 14,
   "metadata": {},
   "outputs": [
    {
     "name": "stdout",
     "output_type": "stream",
     "text": [
      "noun: ['달', '사랑', '너', '나']\n",
      "형태소: ['달', '이', '지', 'ㄴ다', '.', '사랑', '이', '지', 'ㄴ다', '.', '나', 'ㄹ', '떠나', '아', '가', '아', '남기', '어', '지', 'ㄹ', '너', '를', '위하', '어', '나', '는', '울', '어서', '는', '안', '되', 'ㄴ다', '.']\n",
      "품사: [('달', 'N'), ('이', 'J'), ('지', 'P'), ('ㄴ다', 'E'), ('.', 'S'), ('사랑', 'N'), ('이', 'J'), ('지', 'P'), ('ㄴ다', 'E'), ('.', 'S'), ('나', 'P'), ('ㄹ', 'E'), ('떠나', 'P'), ('아', 'E'), ('가', 'P'), ('아', 'E'), ('남기', 'P'), ('어', 'E'), ('지', 'P'), ('ㄹ', 'E'), ('너', 'N'), ('를', 'J'), ('위하', 'P'), ('어', 'E'), ('나', 'N'), ('는', 'J'), ('울', 'P'), ('어서', 'E'), ('는', 'J'), ('안', 'M'), ('되', 'P'), ('ㄴ다', 'E'), ('.', 'S')]\n"
     ]
    }
   ],
   "source": [
    "# 명사, 형태소, 문장, 품사 분석하기\n",
    "print('noun:' , han.nouns(msg))\n",
    "print('형태소:',han.morphs(msg))\n",
    "#print('구문: ' , okt.phrases(msg)) 꼬꼬마는 구문 분석이 안 된다.\n",
    "print('품사:', han.pos(msg))"
   ]
  },
  {
   "cell_type": "code",
   "execution_count": 15,
   "metadata": {},
   "outputs": [],
   "source": [
    "from konlpy.tag import Komoran\n",
    "\n",
    "# 인스턴스 생성\n",
    "kom = Komoran()\n",
    "\n",
    "msg = '왜소한 몸집에 작디 작은 아이는 가슴 속에 백원짜리 꿈을 가진 아이다'\n"
   ]
  },
  {
   "cell_type": "code",
   "execution_count": 16,
   "metadata": {},
   "outputs": [
    {
     "name": "stdout",
     "output_type": "stream",
     "text": [
      "noun: ['몸집', '아이', '가슴', '속', '원', '꿈', '아이다']\n",
      "형태소: ['왜소', '하', 'ㄴ', '몸집', '에', '작', '디', '작', '은', '아이', '는', '가슴', '속', '에', '백', '원', '짜리', '꿈', '을', '가지', 'ㄴ', '아이다']\n",
      "품사: [('왜소', 'XR'), ('하', 'XSA'), ('ㄴ', 'ETM'), ('몸집', 'NNG'), ('에', 'JKB'), ('작', 'VA'), ('디', 'EC'), ('작', 'VA'), ('은', 'ETM'), ('아이', 'NNG'), ('는', 'JX'), ('가슴', 'NNG'), ('속', 'NNG'), ('에', 'JKB'), ('백', 'NR'), ('원', 'NNB'), ('짜리', 'XSN'), ('꿈', 'NNG'), ('을', 'JKO'), ('가지', 'VV'), ('ㄴ', 'ETM'), ('아이다', 'NNP')]\n"
     ]
    }
   ],
   "source": [
    "# 명사, 형태소, 문장, 품사 분석하기\n",
    "print('noun:' , kom.nouns(msg))\n",
    "print('형태소:',kom.morphs(msg))\n",
    "#print('구문: ' , okt.phrases(msg)) 꼬꼬마는 구문 분석이 안 된다.\n",
    "print('품사:', kom.pos(msg))"
   ]
  },
  {
   "cell_type": "markdown",
   "metadata": {},
   "source": [
    "## NLTK <hr>\n",
    "- 한글 미지원"
   ]
  },
  {
   "cell_type": "code",
   "execution_count": 17,
   "metadata": {},
   "outputs": [],
   "source": [
    "# 형태소 분석\n",
    "from nltk import tokenize"
   ]
  },
  {
   "cell_type": "code",
   "execution_count": 18,
   "metadata": {},
   "outputs": [],
   "source": [
    "msg = 'please stay, I want you I need you oh god, I need this beautiful things that I got. please do not take it from me'"
   ]
  },
  {
   "cell_type": "code",
   "execution_count": 19,
   "metadata": {},
   "outputs": [
    {
     "name": "stdout",
     "output_type": "stream",
     "text": [
      "[단어 단위] : ['please', 'stay', ',', 'I', 'want', 'you', 'I', 'need', 'you', 'oh', 'god', ',', 'I', 'need', 'this', 'beautiful', 'things', 'that', 'I', 'got', '.', 'please', 'do', 'not', 'take', 'it', 'from', 'me']\n",
      "[문장 단위] : ['please stay, I want you I need you oh god, I need this beautiful things that I got.', 'please do not take it from me']\n"
     ]
    }
   ],
   "source": [
    "# 단어 단위 형태소\n",
    "result1 = tokenize.word_tokenize(msg)\n",
    "\n",
    "# 문장 단위 형태소\n",
    "result2 = tokenize.sent_tokenize(msg)\n",
    "\n",
    "print(f'[단어 단위] : {result1}')\n",
    "print(f'[문장 단위] : {result2}')"
   ]
  },
  {
   "cell_type": "code",
   "execution_count": 21,
   "metadata": {},
   "outputs": [
    {
     "data": {
      "text/plain": [
       "['please',\n",
       " 'stay',\n",
       " ',',\n",
       " 'I',\n",
       " 'want',\n",
       " 'you',\n",
       " 'I',\n",
       " 'need',\n",
       " 'you',\n",
       " 'oh',\n",
       " 'god',\n",
       " ',',\n",
       " 'I',\n",
       " 'need',\n",
       " 'this',\n",
       " 'beautiful',\n",
       " 'things',\n",
       " 'that',\n",
       " 'I',\n",
       " 'got',\n",
       " '.',\n",
       " 'please',\n",
       " 'do',\n",
       " 'not',\n",
       " 'take',\n",
       " 'it',\n",
       " 'from',\n",
       " 'me']"
      ]
     },
     "execution_count": 21,
     "metadata": {},
     "output_type": "execute_result"
    }
   ],
   "source": [
    "punc = tokenize .WordPunctTokenizer()\n",
    "punc.tokenize(msg)"
   ]
  },
  {
   "cell_type": "code",
   "execution_count": 23,
   "metadata": {},
   "outputs": [],
   "source": [
    "# 파이썬 string 모듈에서 제공하는 구두점\n",
    "import string\n",
    "string.punctuation \n",
    "\n",
    "punctuation = string.punctuation"
   ]
  },
  {
   "cell_type": "code",
   "execution_count": null,
   "metadata": {},
   "outputs": [],
   "source": []
  }
 ],
 "metadata": {
  "kernelspec": {
   "display_name": "NLP_38",
   "language": "python",
   "name": "python3"
  },
  "language_info": {
   "codemirror_mode": {
    "name": "ipython",
    "version": 3
   },
   "file_extension": ".py",
   "mimetype": "text/x-python",
   "name": "python",
   "nbconvert_exporter": "python",
   "pygments_lexer": "ipython3",
   "version": "3.8.19"
  }
 },
 "nbformat": 4,
 "nbformat_minor": 2
}

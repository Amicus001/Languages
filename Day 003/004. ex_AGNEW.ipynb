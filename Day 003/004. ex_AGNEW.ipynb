{
 "cells": [
  {
   "cell_type": "markdown",
   "metadata": {},
   "source": [
    "#### torchtext 라이브러리로 텍스트 분류 <hr>\n",
    "- [1]단계 - 데이터 전처리 : 숫자 형식으로 변환하는 것 까지\n",
    "- [2]단계 - 모델 구현"
   ]
  },
  {
   "cell_type": "markdown",
   "metadata": {},
   "source": [
    "### Torchtext  <hr>\n",
    "- 1. 데이터 전처리\n",
    "- 1-1. 데이터 준비 : 내장 데이터셋 활용\n",
    "    - AG_NEWS 데이터셋 반복자: label + sentence 튜플형태"
   ]
  },
  {
   "cell_type": "code",
   "execution_count": 40,
   "metadata": {},
   "outputs": [],
   "source": [
    "import torch\n",
    "from torchtext.datasets import AG_NEWS\n",
    "\n",
    "# DataPipe type => iterator typecast\n",
    "train_iter = iter(AG_NEWS(split='train'))"
   ]
  },
  {
   "cell_type": "code",
   "execution_count": 41,
   "metadata": {},
   "outputs": [
    {
     "data": {
      "text/plain": [
       "(3,\n",
       " \"Wall St. Bears Claw Back Into the Black (Reuters) Reuters - Short-sellers, Wall Street's dwindling\\\\band of ultra-cynics, are seeing green again.\")"
      ]
     },
     "execution_count": 41,
     "metadata": {},
     "output_type": "execute_result"
    }
   ],
   "source": [
    "next(train_iter)"
   ]
  },
  {
   "cell_type": "code",
   "execution_count": 42,
   "metadata": {},
   "outputs": [
    {
     "data": {
      "text/plain": [
       "'0.17.2'"
      ]
     },
     "execution_count": 42,
     "metadata": {},
     "output_type": "execute_result"
    }
   ],
   "source": [
    "import torchtext\n",
    "\n",
    "torchtext.__version__"
   ]
  },
  {
   "cell_type": "markdown",
   "metadata": {},
   "source": [
    "#### 2. 데이터 처리 파이프라인 준비 <hr>\n",
    "\n",
    "- 어휘집(Vocab), 단어 벡터(word vector), 토크나이저(tokenizer)\n",
    "- 가공되지 않은 텍스트 문자열에 대한 데이터 처리 빌딩 블록\n",
    "- 일반적인 NLP 데이터 처리\n",
    "    - 1. 가공되지 않은 학습 데이터셋으로 어휘집 생성-> 토큰 목록 또는 반복자를 받는 내장 팩토리 함수(factory function); ``build_vocab_from_iterator()``\n",
    "    - 2. 사용자는 어휘집에 추가할 특수 기호(special symbols) 전달 가능"
   ]
  },
  {
   "cell_type": "code",
   "execution_count": 43,
   "metadata": {},
   "outputs": [],
   "source": [
    "from torchtext.data.utils import get_tokenizer\n",
    "from torchtext.vocab import build_vocab_from_iterator\n",
    "\n",
    "# tokenizer generate\n",
    "tokenizer = get_tokenizer('basic_english')\n",
    "\n",
    "# news train data extraction\n",
    "train_iter = AG_NEWS(split='train')"
   ]
  },
  {
   "cell_type": "code",
   "execution_count": 44,
   "metadata": {},
   "outputs": [],
   "source": [
    "## Token generator: tokenize data extracted from training\n",
    "\n",
    "def yield_tokens(data_iter): # 생성자를 만들고 나서 줘야 돼\n",
    "    for _, text in data_iter:\n",
    "        #label, text --> text tokenization\n",
    "        yield tokenizer(text)"
   ]
  },
  {
   "cell_type": "code",
   "execution_count": 45,
   "metadata": {},
   "outputs": [],
   "source": [
    "# vocab create\n",
    "vocab = build_vocab_from_iterator(yield_tokens(train_iter), specials= ['<unk>'])\n",
    "\n",
    "# set <unk> index as 0 \n",
    "vocab.set_default_index(vocab['<unk>'])"
   ]
  },
  {
   "cell_type": "code",
   "execution_count": 46,
   "metadata": {},
   "outputs": [
    {
     "data": {
      "text/plain": [
       "[0, 475, 21, 30, 5297]"
      ]
     },
     "execution_count": 46,
     "metadata": {},
     "output_type": "execute_result"
    }
   ],
   "source": [
    "vocab(['<unk>','here', 'is','an', 'example'])\n"
   ]
  },
  {
   "cell_type": "code",
   "execution_count": 47,
   "metadata": {},
   "outputs": [],
   "source": [
    "## text -> integer encode\n",
    "\n",
    "text_pipeline = lambda x : vocab(tokenizer(x))\n",
    "\n",
    "#lables -> integer encode\n",
    "label_pipeline = lambda x: int(x) -1"
   ]
  },
  {
   "cell_type": "markdown",
   "metadata": {},
   "source": [
    "[ 3 ] 데이터 배치(batch)와 반복자 생성하기 <hr>\n",
    "\n",
    "- torch. utils.dataLoader: getitem(), len() 구현한 맵 형태(map-style)\n",
    "- collate_fn(): DataLoader로부터 생성된 샘플 배치 함수\n",
    "    - 입력: DataLoader에 배치 크기(batch_size)가 있는 배치(batch)데이터\n"
   ]
  },
  {
   "cell_type": "code",
   "execution_count": 48,
   "metadata": {},
   "outputs": [],
   "source": [
    "from torch.utils.data import DataLoader\n",
    "device = torch.device('cuda' if torch.cuda.is_available() else 'cpu')\n",
    "\n",
    "#배치 크기만큼 데이터셋 반환 함수\n",
    "def collate_batch(batch):\n",
    "    # 배치 크기만큼의 라벨, 텍스트, 오프셋 값 저장 변수\n",
    "    label_list, text_list, offsets = [], [], [0]\n",
    "\n",
    "    #하나씩 뉴스 기사, 라벨 추출 후 저장\n",
    "    for (_label, _text) in batch:\n",
    "\n",
    "        #라벨 인코딩, 저장\n",
    "        label_list.append(label_pipeline(_label))\n",
    "        \n",
    "        # 텍스트 인코딩 후 저장\n",
    "        processed_text = torch.tensor(text_pipeline(_text), dtype= torch.int64)\n",
    "        text_list.append(processed_text)\n",
    "        \n",
    "        #텍스트 오프셋(텍스트 크기 / 길이) 저장\n",
    "        offsets.append(processed_text.size(0))\n",
    "\n",
    "    # 텐서화 진행\n",
    "    label_list = torch.tensor(label_list, dtype= torch.int64)\n",
    "    offsets = torch.tensor(offsets[:-1]).cumsum(dim=0) #cumsum = 누적 합. \n",
    "    text_list = torch.cat(text_list)\n",
    "\n",
    "    return label_list.to(device), text_list.to(device), offsets.to(device)"
   ]
  },
  {
   "cell_type": "code",
   "execution_count": 49,
   "metadata": {},
   "outputs": [],
   "source": [
    "train_iter = AG_NEWS(split='train')\n",
    "dataloader = DataLoader(train_iter, \n",
    "                        batch_size= 8, \n",
    "                        shuffle = False, \n",
    "                        collate_fn=collate_batch)"
   ]
  },
  {
   "cell_type": "code",
   "execution_count": 50,
   "metadata": {},
   "outputs": [
    {
     "name": "stdout",
     "output_type": "stream",
     "text": [
      "vocab_size = 95811, num_classes = 4\n"
     ]
    }
   ],
   "source": [
    "# q분류 클래스 수 와 단어사전 갯수\n",
    "num_classes = len(set([label for (label,text) in train_iter]))\n",
    "vocab_size = len(vocab)\n",
    "\n",
    "print(f'vocab_size = {vocab_size}, num_classes = {num_classes}')       "
   ]
  },
  {
   "cell_type": "code",
   "execution_count": 51,
   "metadata": {},
   "outputs": [
    {
     "name": "stdout",
     "output_type": "stream",
     "text": [
      "tensor([2, 2, 2, 2, 2, 2, 2, 2]) tensor([  431,   425,     1,  1605, 14838,   113,    66,     2,   848,    13,\n",
      "           27,    14,    27,    15, 50725,     3,   431,   374,    16,     9,\n",
      "        67507,     6, 52258,     3,    42,  4009,   783,   325,     1, 15874,\n",
      "         1072,   854,  1310,  4250,    13,    27,    14,    27,    15,   929,\n",
      "          797,   320, 15874,    98,     3, 27657,    28,     5,  4459,    11,\n",
      "          564, 52790,     8, 80617,  2125,     7,     2,   525,   241,     3,\n",
      "           28,  3890, 82814,  6574,    10,   206,   359,     6,     2,   126,\n",
      "            1,    58,     8,   347,  4582,   151,    16,   738,    13,    27,\n",
      "           14,    27,    15,  2384,   452,    92,  2059, 27360,     2,   347,\n",
      "            8,     2,   738,    11,   271,    42,   240, 51953,    38,     2,\n",
      "          294,   126,   112,    85,   220,     2,  7856,     6, 40066, 15380,\n",
      "            1,    70,  7376,    58,  1810,    29,   905,   537,  2846,    13,\n",
      "           27,    14,    27,    15,   838,    39,  4978,    58, 68871,    29,\n",
      "            2,   905,  2846,     7,   537,    70, 58874,   703,     5,   912,\n",
      "         2520,    93, 89171,     3,    30,    58,   293,    26,    10,   114,\n",
      "            1,    58,    92,  4379,     4,  3581,   145,     3,  7577,    23,\n",
      "        12282,     4,    36,   347,    13,   105,    14,   105,    15, 90056,\n",
      "           50,    58,    92,     3, 11312,  1732,     8, 13750,  9735,     3,\n",
      "         3593,     5,    23,   365, 12282,  3470,    94,   299,   167,     2,\n",
      "           36,   399,   545,     1,   151,   152,    43,     3,    45,   355,\n",
      "           71,  2280,    13,    27,    14,    27,    15,   151,   789,  1357,\n",
      "          280,    10, 70411,  4433,   355,  2280,    11,     2,    71,    19,\n",
      "           58,    92,  2301,   353,   468, 55934,   715,     3, 12933,     5,\n",
      "         1617,   738,    29,   179, 77320,    64,     1,    13,   846,     1,\n",
      "          371,    14,   756,  1207,   439,     7,   307,    85,    13,    31,\n",
      "           14,    31,    15,  1766,     6,     2,   407,    16,     9,   832,\n",
      "          756,   126,  2145,  1207,   439,    24,   468,   108,     1,   782,\n",
      "          139,     7,     2,   307,    85,     4,   468, 56748,     1,  8874,\n",
      "         6852,     3,     2,   797,    54,  3007,    26,    60,     1,  1355,\n",
      "         1236,   517, 13945,    38,  1416,    13,  2199,     1,   172,    14,\n",
      "         2199,     1,   172,    15,   832,   124,  5951,   113,     5,  2539,\n",
      "            7,  1232,     3,     8,    23,   571,    11,  2444,  1687,   439,\n",
      "           69,    85,     3,     2,   100,    26,    60,     3,  7126,     2,\n",
      "          347,    21,  2566,    29,     5, 26470,  3676,     1]) tensor([  0,  29,  71, 111, 151, 194, 242, 289])\n"
     ]
    }
   ],
   "source": [
    "for labels, texts, offsets in dataloader:\n",
    "    print(labels, texts, offsets)\n",
    "    break"
   ]
  },
  {
   "cell_type": "code",
   "execution_count": 52,
   "metadata": {},
   "outputs": [],
   "source": [
    "# 모델 설계\n",
    "import torch.nn as nn\n",
    "# 모델 설계 \n",
    "# 입력층 : EmbeddingBag Layer = 레이어와 분류 목적을 위한 선형 레이어, 텍스트의 길이는 오프셋\n",
    "# 은닉층 : Linear - 4개 클래스 분류\n",
    "class TextModel(nn.Module) :\n",
    "    def __init__(self, VOCAB_SIZE, EMBEDD_DIM, HIDDEN_SIZE, NUM_CLASS) :\n",
    "        super().__init__()\n",
    "        # 모델 구성 층 정의\n",
    "        self.embedding = nn.EmbeddingBag(VOCAB_SIZE, EMBEDD_DIM, sparse = False)\n",
    "        self.fc = nn.Linear(EMBEDD_DIM, NUM_CLASS)\n",
    "        self.init_weights()\n",
    "\n",
    "    # 가중치 초기화\n",
    "    def init_weights(self):\n",
    "        initrange = 0.5\n",
    "        self.embedding.weight.data.uniform_(-initrange, initrange)\n",
    "        self.fc.weight.data.uniform_(-initrange, initrange)\n",
    "        self.fc.bias.data.zero_()\n",
    "\n",
    "    #순방향 학습 진행\n",
    "    def forward(self, text, offsets) :\n",
    "        embedded = self.embedding(text, offsets)\n",
    "        return self.fc(embedded)"
   ]
  },
  {
   "cell_type": "code",
   "execution_count": 53,
   "metadata": {},
   "outputs": [],
   "source": [
    "#PARAMETERS\n",
    "HIDDEN_SIZE = 3\n",
    "EMBEDD_DIM = 64\n",
    "VOCAB_SIZE = len(vocab)\n",
    "NUM_CLASS = len(set([label for label, _ in train_iter]))\n",
    "EPOCHS = 10\n",
    "LR = 5\n",
    "BATCH_SIZE = 64\n"
   ]
  },
  {
   "cell_type": "code",
   "execution_count": 54,
   "metadata": {},
   "outputs": [],
   "source": [
    "# instance\n",
    "import  torch.optim as optim\n",
    "MODEL = TextModel(VOCAB_SIZE, EMBEDD_DIM, HIDDEN_SIZE, NUM_CLASS).to(device)\n",
    "\n",
    "CRITERION = nn.CrossEntropyLoss()\n",
    "OPTIMIZER = torch.optim.SGD(MODEL.parameters(), lr=LR)\n",
    "SCHEDULER = optim.lr_scheduler.StepLR(OPTIMIZER, step_size=1, gamma=0.1) #learning rate decresing\n",
    "\n"
   ]
  },
  {
   "cell_type": "code",
   "execution_count": 55,
   "metadata": {},
   "outputs": [],
   "source": [
    "# #학습 관련 변수\n",
    "# total_acc, total_count = 0,0\n",
    "# log_interval = 300\n",
    "\n",
    "def train(model, dataloader, optimizer, criterion, epoch):\n",
    "    \n",
    "    model.train()\n",
    "    \n",
    "    # 학습 평가 관련 변수들\n",
    "    total_acc, total_count = 0,0\n",
    "    log_interval=300\n",
    "    \n",
    "    for idx, (label, text, offsets) in enumerate(dataloader):\n",
    "        predicted_label = model(text, offsets)\n",
    "        optimizer.zero_grad()\n",
    "        loss = criterion(predicted_label, label)\n",
    "        loss.backward()\n",
    "        torch.nn.utils.clip_grad_norm_(model.parameters(), 0.1)\n",
    "        optimizer.step()\n",
    "        \n",
    "        # 배치 학습 평가\n",
    "        total_acc += (predicted_label.argmax(1) == label).sum().item()\n",
    "        total_count += label.size(0)\n",
    "        \n",
    "        if idx % log_interval == 0 and idx > 0:\n",
    "            print(f\"epoch : {epoch} batch : {idx} loss : {loss.item()}\")\n",
    "            print(f\"Accuracy : {total_acc/total_count}\")\n",
    "            total_acc, total_count = 0,0\n",
    "            \n",
    "            break"
   ]
  },
  {
   "cell_type": "code",
   "execution_count": 62,
   "metadata": {},
   "outputs": [],
   "source": [
    "def evaluate(model, dataloader, criterion):\n",
    "    model.eval()\n",
    "\n",
    "    total_acc,total_count = 0,0\n",
    "    \n",
    "    with torch.no_grad():\n",
    "        for idx, (label, text, offsets) in enumerate(dataloader):\n",
    "            predicted_label = model(text, offsets)\n",
    "            total_acc+= (predicted_label.argmax(1)==label).sum().item()\n",
    "            total_count +=label.size(0)\n",
    "\n",
    "    return total_acc/total_count"
   ]
  },
  {
   "cell_type": "code",
   "execution_count": 63,
   "metadata": {},
   "outputs": [],
   "source": [
    "def predict(model, text, text_pipeline):\n",
    "    with torch.no_grad():\n",
    "        text = torch.tensor(text_pipeline(text))\n",
    "        output = model(text, torch.tensor([0]))\n",
    "        return output.argmax(1).item()+1"
   ]
  },
  {
   "cell_type": "code",
   "execution_count": 64,
   "metadata": {},
   "outputs": [
    {
     "name": "stdout",
     "output_type": "stream",
     "text": [
      "epoch : 1 batch : 300 loss : 0.40215909481048584\n",
      "Accuracy : 0.7757475083056479\n",
      "epoch : 1 accuracy : 0.6413333333333333\n",
      "epoch : 2 batch : 300 loss : 0.37468504905700684\n",
      "Accuracy : 0.8197674418604651\n",
      "epoch : 2 accuracy : 0.6853583333333333\n",
      "epoch : 3 batch : 300 loss : 0.3683914542198181\n",
      "Accuracy : 0.8268272425249169\n",
      "epoch : 3 accuracy : 0.682725\n",
      "epoch : 4 batch : 300 loss : 0.36846038699150085\n",
      "Accuracy : 0.8359634551495017\n",
      "epoch : 4 accuracy : 0.68195\n",
      "epoch : 5 batch : 300 loss : 0.3684725761413574\n",
      "Accuracy : 0.8359634551495017\n",
      "epoch : 5 accuracy : 0.681825\n",
      "epoch : 6 batch : 300 loss : 0.3684740662574768\n",
      "Accuracy : 0.8363787375415282\n",
      "epoch : 6 accuracy : 0.6817916666666667\n",
      "epoch : 7 batch : 300 loss : 0.3684745132923126\n",
      "Accuracy : 0.8363787375415282\n",
      "epoch : 7 accuracy : 0.6817916666666667\n",
      "epoch : 8 batch : 300 loss : 0.3684743046760559\n",
      "Accuracy : 0.8363787375415282\n",
      "epoch : 8 accuracy : 0.6817916666666667\n",
      "epoch : 9 batch : 300 loss : 0.3684743046760559\n",
      "Accuracy : 0.8363787375415282\n",
      "epoch : 9 accuracy : 0.6817916666666667\n",
      "epoch : 10 batch : 300 loss : 0.3684743046760559\n",
      "Accuracy : 0.8363787375415282\n",
      "epoch : 10 accuracy : 0.6817916666666667\n"
     ]
    }
   ],
   "source": [
    "# 학습\n",
    "\n",
    "for epoch in range(1, EPOCHS+1):\n",
    "    train(MODEL, dataloader, OPTIMIZER, CRITERION, epoch)\n",
    "    acc_val = evaluate(MODEL, dataloader, CRITERION)\n",
    "    print(f'epoch : {epoch} accuracy : {acc_val}')\n",
    "    SCHEDULER.step()\n",
    "    "
   ]
  },
  {
   "cell_type": "code",
   "execution_count": null,
   "metadata": {},
   "outputs": [],
   "source": []
  }
 ],
 "metadata": {
  "kernelspec": {
   "display_name": "NLP_38",
   "language": "python",
   "name": "python3"
  },
  "language_info": {
   "codemirror_mode": {
    "name": "ipython",
    "version": 3
   },
   "file_extension": ".py",
   "mimetype": "text/x-python",
   "name": "python",
   "nbconvert_exporter": "python",
   "pygments_lexer": "ipython3",
   "version": "3.8.19"
  }
 },
 "nbformat": 4,
 "nbformat_minor": 2
}

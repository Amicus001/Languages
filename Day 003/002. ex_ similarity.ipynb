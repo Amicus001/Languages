{
 "cells": [
  {
   "cell_type": "markdown",
   "metadata": {},
   "source": [
    "### 추천시스템\n",
    "- TF-IDF와 코사인 유사도로 추천 시스템 구현\n",
    "- 원리: 유사한 내용 추천으로 유사도 높은 거 찾기\n",
    "    * 영화 줄거리(OverView)가 비슷한 영화 찾아주기"
   ]
  },
  {
   "cell_type": "markdown",
   "metadata": {},
   "source": [
    "영화 추천 <hr>"
   ]
  },
  {
   "cell_type": "code",
   "execution_count": 2,
   "metadata": {},
   "outputs": [],
   "source": [
    "## 1. 데이터 준비하기\n",
    "\n",
    "import pandas as pd\n",
    "from sklearn.feature_extraction.text import TfidfVectorizer\n",
    "from sklearn.metrics.pairwise import cosine_similarity"
   ]
  },
  {
   "cell_type": "code",
   "execution_count": 3,
   "metadata": {},
   "outputs": [
    {
     "name": "stdout",
     "output_type": "stream",
     "text": [
      "<class 'pandas.core.frame.DataFrame'>\n",
      "RangeIndex: 45466 entries, 0 to 45465\n",
      "Data columns (total 24 columns):\n",
      " #   Column                 Non-Null Count  Dtype  \n",
      "---  ------                 --------------  -----  \n",
      " 0   adult                  45466 non-null  object \n",
      " 1   belongs_to_collection  4494 non-null   object \n",
      " 2   budget                 45466 non-null  object \n",
      " 3   genres                 45466 non-null  object \n",
      " 4   homepage               7782 non-null   object \n",
      " 5   id                     45466 non-null  object \n",
      " 6   imdb_id                45449 non-null  object \n",
      " 7   original_language      45455 non-null  object \n",
      " 8   original_title         45466 non-null  object \n",
      " 9   overview               44512 non-null  object \n",
      " 10  popularity             45461 non-null  object \n",
      " 11  poster_path            45080 non-null  object \n",
      " 12  production_companies   45463 non-null  object \n",
      " 13  production_countries   45463 non-null  object \n",
      " 14  release_date           45379 non-null  object \n",
      " 15  revenue                45460 non-null  float64\n",
      " 16  runtime                45203 non-null  float64\n",
      " 17  spoken_languages       45460 non-null  object \n",
      " 18  status                 45379 non-null  object \n",
      " 19  tagline                20412 non-null  object \n",
      " 20  title                  45460 non-null  object \n",
      " 21  video                  45460 non-null  object \n",
      " 22  vote_average           45460 non-null  float64\n",
      " 23  vote_count             45460 non-null  float64\n",
      "dtypes: float64(4), object(20)\n",
      "memory usage: 8.3+ MB\n"
     ]
    }
   ],
   "source": [
    "datafile = '../datas/movies_metadata.csv'\n",
    "\n",
    "dataDF1 = pd.read_csv(datafile, low_memory=False)\n",
    "dataDF1.info()"
   ]
  },
  {
   "cell_type": "code",
   "execution_count": 5,
   "metadata": {},
   "outputs": [
    {
     "name": "stdout",
     "output_type": "stream",
     "text": [
      "<class 'pandas.core.frame.DataFrame'>\n",
      "RangeIndex: 10000 entries, 0 to 9999\n",
      "Data columns (total 3 columns):\n",
      " #   Column    Non-Null Count  Dtype \n",
      "---  ------    --------------  ----- \n",
      " 0   id        10000 non-null  object\n",
      " 1   title     10000 non-null  object\n",
      " 2   overview  9971 non-null   object\n",
      "dtypes: object(3)\n",
      "memory usage: 234.5+ KB\n"
     ]
    }
   ],
   "source": [
    "# 10000 개만 사용\n",
    "dataDF2 = dataDF1.head(10000)[['id','title','overview']]\n",
    "dataDF2.info()"
   ]
  },
  {
   "cell_type": "code",
   "execution_count": 6,
   "metadata": {},
   "outputs": [],
   "source": [
    "## 2. 데이터 전처리"
   ]
  },
  {
   "cell_type": "code",
   "execution_count": 8,
   "metadata": {},
   "outputs": [
    {
     "data": {
      "text/plain": [
       "29"
      ]
     },
     "execution_count": 8,
     "metadata": {},
     "output_type": "execute_result"
    }
   ],
   "source": [
    "dataDF2['overview'].isnull().sum()"
   ]
  },
  {
   "cell_type": "code",
   "execution_count": 9,
   "metadata": {},
   "outputs": [
    {
     "data": {
      "text/plain": [
       "0"
      ]
     },
     "execution_count": 9,
     "metadata": {},
     "output_type": "execute_result"
    }
   ],
   "source": [
    "dataDF2.loc[:, 'overview'] = dataDF2['overview'].fillna('')\n",
    "dataDF2['overview'].isnull().sum()"
   ]
  },
  {
   "cell_type": "markdown",
   "metadata": {},
   "source": [
    "3. TF-IDF, Cosine_similarity <hr>"
   ]
  },
  {
   "cell_type": "code",
   "execution_count": 11,
   "metadata": {},
   "outputs": [],
   "source": [
    "#TF-IDF : 단어들의 값 계산하기\n",
    "tfidf = TfidfVectorizer(stop_words='english')\n",
    "tfidf_matrix = tfidf.fit_transform(dataDF2['overview'])\n",
    "\n",
    "# 코사인 유사도 : 두 개의 matrix에 대한 비교 진행하기\n",
    "cosine_sim = cosine_similarity(tfidf_matrix, tfidf_matrix)"
   ]
  },
  {
   "cell_type": "code",
   "execution_count": 12,
   "metadata": {},
   "outputs": [
    {
     "name": "stdout",
     "output_type": "stream",
     "text": [
      "[TF-IDF 행렬 크기(shape)]: (10000, 32350)\n",
      "[콯사인 유사도 연산 결과]: (10000, 10000)\n"
     ]
    }
   ],
   "source": [
    "print(f'[TF-IDF 행렬 크기(shape)]: {tfidf_matrix.shape}')\n",
    "print(f'[콯사인 유사도 연산 결과]: {cosine_sim.shape}')"
   ]
  },
  {
   "cell_type": "code",
   "execution_count": 13,
   "metadata": {},
   "outputs": [
    {
     "data": {
      "text/plain": [
       "(array([[1.        , 0.01682915, 0.        , ..., 0.        , 0.        ,\n",
       "         0.        ],\n",
       "        [0.01682915, 1.        , 0.04871976, ..., 0.        , 0.01200997,\n",
       "         0.        ],\n",
       "        [0.        , 0.04871976, 1.        , ..., 0.        , 0.00735515,\n",
       "         0.        ],\n",
       "        ...,\n",
       "        [0.        , 0.        , 0.00686749, ..., 0.0193363 , 0.        ,\n",
       "         0.        ],\n",
       "        [0.        , 0.10718403, 0.        , ..., 0.        , 0.        ,\n",
       "         0.        ],\n",
       "        [0.        , 0.        , 0.        , ..., 0.        , 0.        ,\n",
       "         0.        ]]),\n",
       " 0                       Toy Story\n",
       " 1                         Jumanji\n",
       " 2                Grumpier Old Men\n",
       " 3               Waiting to Exhale\n",
       " 4     Father of the Bride Part II\n",
       " 5                            Heat\n",
       " 6                         Sabrina\n",
       " 7                    Tom and Huck\n",
       " 8                    Sudden Death\n",
       " 9                       GoldenEye\n",
       " 10         The American President\n",
       " Name: title, dtype: object)"
      ]
     },
     "execution_count": 13,
     "metadata": {},
     "output_type": "execute_result"
    }
   ],
   "source": [
    "cosine_sim[:10], dataDF2.loc[:10, 'title']"
   ]
  },
  {
   "cell_type": "code",
   "execution_count": 15,
   "metadata": {},
   "outputs": [
    {
     "data": {
      "text/plain": [
       "4"
      ]
     },
     "execution_count": 15,
     "metadata": {},
     "output_type": "execute_result"
    }
   ],
   "source": [
    "# 영화 제목 입력 --> 해당 영화 인덱스 추출\n",
    "(dataDF2['title']=='Father of the Bride Part II').argmax()"
   ]
  },
  {
   "cell_type": "code",
   "execution_count": 17,
   "metadata": {},
   "outputs": [],
   "source": [
    "title_to_index = dict(zip(dataDF2['title'], dataDF2.index))"
   ]
  },
  {
   "cell_type": "code",
   "execution_count": 18,
   "metadata": {},
   "outputs": [],
   "source": [
    "# 원하는 영화 인덱스 찾기\n",
    "select_idx = title_to_index['Father of the Bride Part II']"
   ]
  },
  {
   "cell_type": "code",
   "execution_count": 19,
   "metadata": {},
   "outputs": [
    {
     "data": {
      "text/plain": [
       "6793      Father of the Bride\n",
       "6571                    Kuffs\n",
       "6306          North to Alaska\n",
       "5005                  Wendigo\n",
       "7097       The Out of Towners\n",
       "926     It's a Wonderful Life\n",
       "5571           All Night Long\n",
       "5749              Another You\n",
       "1516     George of the Jungle\n",
       "6813     Journeys with George\n",
       "Name: title, dtype: object"
      ]
     },
     "execution_count": 19,
     "metadata": {},
     "output_type": "execute_result"
    }
   ],
   "source": [
    "# 모든 영화 유사도\n",
    "sim_scores = list(enumerate(cosine_sim[select_idx]))\n",
    "\n",
    "#유사도 따라서 정렬\n",
    "sim_scores = sorted(sim_scores, key=lambda x: x[1], reverse=True)\n",
    "\n",
    "#r가장 유사한 10개\n",
    "sim_scores= sim_scores[1:11]\n",
    "movie_indices = [idx[0] for idx in sim_scores]\n",
    "\n",
    "#가장 유사한 10개의 영화 제목\n",
    "dataDF2['title'].iloc[movie_indices]"
   ]
  },
  {
   "cell_type": "code",
   "execution_count": null,
   "metadata": {},
   "outputs": [],
   "source": []
  }
 ],
 "metadata": {
  "kernelspec": {
   "display_name": "NLP_38",
   "language": "python",
   "name": "python3"
  },
  "language_info": {
   "codemirror_mode": {
    "name": "ipython",
    "version": 3
   },
   "file_extension": ".py",
   "mimetype": "text/x-python",
   "name": "python",
   "nbconvert_exporter": "python",
   "pygments_lexer": "ipython3",
   "version": "3.8.19"
  }
 },
 "nbformat": 4,
 "nbformat_minor": 2
}

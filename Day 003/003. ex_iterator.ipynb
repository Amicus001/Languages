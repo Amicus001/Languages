{
 "cells": [
  {
   "cell_type": "markdown",
   "metadata": {},
   "source": [
    "#### [ iterator ] \n",
    "- iterable : 반복 가능한 객체: for ~ in으로 요소 제어가 가능한 자료형 (리스트, 튜플, 스트링, ...) __iter__() 메소드를 가진 자료형.  \n",
    "- iterator : iter() 함수로 생성, next()함수 내장하고 있음"
   ]
  },
  {
   "cell_type": "code",
   "execution_count": 7,
   "metadata": {},
   "outputs": [
    {
     "data": {
      "text/plain": [
       "list_iterator"
      ]
     },
     "execution_count": 7,
     "metadata": {},
     "output_type": "execute_result"
    }
   ],
   "source": [
    "a = [10,20] # iterable, iterator 객체가 아님!\n",
    "\n",
    "#iterator 인스턴스 객체 생성\n",
    "b = iter(a)\n",
    "type(b)"
   ]
  },
  {
   "cell_type": "code",
   "execution_count": 8,
   "metadata": {},
   "outputs": [
    {
     "data": {
      "text/plain": [
       "10"
      ]
     },
     "execution_count": 8,
     "metadata": {},
     "output_type": "execute_result"
    }
   ],
   "source": [
    "next(b) # 더 이상 가져올 데이터가 없는 경우 ERROR 발생: StopIteration"
   ]
  },
  {
   "cell_type": "markdown",
   "metadata": {},
   "source": [
    "### [  Generator  ] <hr>\n",
    "\n",
    "- 형식 : def function_name(): yield return_value\n",
    "- 코드 실행 후 결과를 반환\n",
    "- 실행된 상태 정보 유지 ==> 재호출되면 이전 실행 정보를 바탕으로 동작\n",
    "\n",
    "- 장점\n",
    "    - 메모리 효율이 좋음( 현재 실행되는만큼만 메모리 사용)\n",
    "    -> 대량의 데이터 처리에 효율적 "
   ]
  },
  {
   "cell_type": "code",
   "execution_count": 9,
   "metadata": {},
   "outputs": [],
   "source": [
    "def make_values():\n",
    "    data = [10,20,30,40]\n",
    "    return data * 10 #data(list)를 10회 반복해서 출력해줭. "
   ]
  },
  {
   "cell_type": "code",
   "execution_count": 11,
   "metadata": {},
   "outputs": [
    {
     "data": {
      "text/plain": [
       "function"
      ]
     },
     "execution_count": 11,
     "metadata": {},
     "output_type": "execute_result"
    }
   ],
   "source": [
    "type(make_values)"
   ]
  },
  {
   "cell_type": "code",
   "execution_count": 13,
   "metadata": {},
   "outputs": [
    {
     "data": {
      "text/plain": [
       "(function, <function __main__.make_values2()>)"
      ]
     },
     "execution_count": 13,
     "metadata": {},
     "output_type": "execute_result"
    }
   ],
   "source": [
    "def make_values2():\n",
    "    data = [10,20,30,40]\n",
    "    yield data * 10\n",
    "\n",
    "\n",
    "type(make_values2), make_values2"
   ]
  },
  {
   "cell_type": "code",
   "execution_count": 14,
   "metadata": {},
   "outputs": [
    {
     "data": {
      "text/plain": [
       "<method-wrapper '__next__' of generator object at 0x00000220D21AD190>"
      ]
     },
     "execution_count": 14,
     "metadata": {},
     "output_type": "execute_result"
    }
   ],
   "source": [
    "m2= make_values2()\n",
    "m2.__next__"
   ]
  },
  {
   "cell_type": "code",
   "execution_count": 36,
   "metadata": {},
   "outputs": [],
   "source": [
    "## 여러 개의 데이터를 처리하는 함수와 제너레이터\n",
    "def many_data():\n",
    "    for n in range(50):\n",
    "        print(n, end=' ')\n",
    "\n",
    "def many_data2():\n",
    "    for n in range(50):\n",
    "        for n in range(50):\n",
    "            yield print(n)"
   ]
  },
  {
   "cell_type": "code",
   "execution_count": 37,
   "metadata": {},
   "outputs": [
    {
     "name": "stdout",
     "output_type": "stream",
     "text": [
      "0 1 2 3 4 5 6 7 8 9 10 11 12 13 14 15 16 17 18 19 20 21 22 23 24 25 26 27 28 29 30 31 32 33 34 35 36 37 38 39 40 41 42 43 44 45 46 47 48 49 "
     ]
    }
   ],
   "source": [
    "many_data()"
   ]
  },
  {
   "cell_type": "code",
   "execution_count": 41,
   "metadata": {},
   "outputs": [],
   "source": [
    "#comprehension\n",
    "a = [value for value in range(100)]\n",
    "d = {k : k*5 for k in range (100)}"
   ]
  },
  {
   "cell_type": "code",
   "execution_count": 38,
   "metadata": {},
   "outputs": [
    {
     "name": "stdout",
     "output_type": "stream",
     "text": [
      "0\n"
     ]
    }
   ],
   "source": [
    "md2 = many_data2()\n",
    "next(md2)\n",
    "#for _ in md2:\n",
    "#    _"
   ]
  },
  {
   "cell_type": "code",
   "execution_count": 29,
   "metadata": {},
   "outputs": [],
   "source": [
    "class A:\n",
    "    def __init__(self,data):\n",
    "        self.data = data\n",
    "\n",
    "    #연산자 오버라이딩\n",
    "    def __add__(self, other):\n",
    "        return self.data + other.data\n",
    "    \n",
    "    # a instance끼리 뺄셈 연산 진행\n",
    "    def __sub__(self, other):\n",
    "        return self.data - other.data\n",
    "    \n",
    "    #next() 함수 호출 시 호출되는 메서드\n",
    "    def __next__(self):\n",
    "        return self.data * 10"
   ]
  },
  {
   "cell_type": "code",
   "execution_count": 30,
   "metadata": {},
   "outputs": [
    {
     "data": {
      "text/plain": [
       "100"
      ]
     },
     "execution_count": 30,
     "metadata": {},
     "output_type": "execute_result"
    }
   ],
   "source": [
    "type(a1.__class__)\n",
    "a1,a2 = A(10), A(5)\n",
    "\n",
    "a1+a2, a1-a2 \n",
    "next(a1)"
   ]
  },
  {
   "cell_type": "code",
   "execution_count": 16,
   "metadata": {},
   "outputs": [],
   "source": [
    "a1, a2 = A(), A()\n",
    "#a1 + a2 = UNSUPPORTED ERROR"
   ]
  },
  {
   "cell_type": "code",
   "execution_count": null,
   "metadata": {},
   "outputs": [],
   "source": []
  }
 ],
 "metadata": {
  "kernelspec": {
   "display_name": "NLP_38",
   "language": "python",
   "name": "python3"
  },
  "language_info": {
   "codemirror_mode": {
    "name": "ipython",
    "version": 3
   },
   "file_extension": ".py",
   "mimetype": "text/x-python",
   "name": "python",
   "nbconvert_exporter": "python",
   "pygments_lexer": "ipython3",
   "version": "3.8.19"
  }
 },
 "nbformat": 4,
 "nbformat_minor": 2
}
